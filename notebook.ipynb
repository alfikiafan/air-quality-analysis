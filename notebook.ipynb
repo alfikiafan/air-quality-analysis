{
  "cells": [
    {
      "cell_type": "markdown",
      "metadata": {
        "id": "H9wADwK78DCz"
      },
      "source": [
        "# Proyek Analisis Data: Air Quality Dataset\n",
        "- **Nama:** Alfiki Diastama Afan Firdaus\n",
        "- **Email:** alfiki.diastama@gmail.com\n",
        "- **ID Dicoding:** alfikiafan"
      ]
    },
    {
      "cell_type": "markdown",
      "metadata": {
        "id": "eE0raob58DC0"
      },
      "source": [
        "## Menentukan Pertanyaan Bisnis"
      ]
    },
    {
      "cell_type": "markdown",
      "metadata": {
        "id": "GmQeQ5YF8DC0"
      },
      "source": [
        "- Bagaimana tren konsentrasi polutan PM2.5 dan PM10 berubah dari waktu ke waktu di masing-masing stasiun?\n",
        "- Apakah terdapat hubungan antara kondisi cuaca (seperti suhu, kelembaban, tekanan udara) dengan tingkat polusi udara (PM2.5 dan PM10) di berbagai stasiun?"
      ]
    },
    {
      "cell_type": "markdown",
      "metadata": {
        "id": "H-z4QGlO8DC1"
      },
      "source": [
        "## Import Semua Packages/Library yang Digunakan"
      ]
    },
    {
      "cell_type": "code",
      "execution_count": null,
      "metadata": {
        "id": "FVYwaObI8DC1"
      },
      "outputs": [],
      "source": [
        "%pip install -r requirements.txt"
      ]
    },
    {
      "cell_type": "markdown",
      "metadata": {
        "id": "h_Sh51Xy8DC1"
      },
      "source": [
        "## Data Wrangling"
      ]
    },
    {
      "cell_type": "markdown",
      "metadata": {},
      "source": [
        "### Gathering Data\n",
        "Pada tahap ini, kita akan mengumpulkan data yang akan digunakan untuk analisis data. Data yang digunakan adalah data polusi udara di China. Data ini dapat diunduh dari [Google Drive](https://drive.usercontent.google.com/download?id=1RhU3gJlkteaAQfyn9XOVAz7a5o1-etgr).\n",
        "Kode di bawah ini akan menggabungkan data dari beberapa file CSV yang telah diunduh menjadi satu DataFrame."
      ]
    },
    {
      "cell_type": "code",
      "execution_count": 22,
      "metadata": {},
      "outputs": [
        {
          "name": "stdout",
          "output_type": "stream",
          "text": [
            "Ditemukan 12 file CSV di direktori data.\n"
          ]
        },
        {
          "name": "stderr",
          "output_type": "stream",
          "text": []
        },
        {
          "name": "stderr",
          "output_type": "stream",
          "text": []
        },
        {
          "name": "stdout",
          "output_type": "stream",
          "text": [
            "Berhasil membaca PRSA_Data_Aotizhongxin_20130301-20170228.csv dengan 35064 baris.\n",
            "Berhasil membaca PRSA_Data_Changping_20130301-20170228.csv dengan 35064 baris."
          ]
        },
        {
          "name": "stderr",
          "output_type": "stream",
          "text": []
        },
        {
          "name": "stdout",
          "output_type": "stream",
          "text": [
            "\n",
            "Berhasil membaca PRSA_Data_Dingling_20130301-20170228.csv dengan 35064 baris.\n"
          ]
        },
        {
          "name": "stderr",
          "output_type": "stream",
          "text": []
        },
        {
          "name": "stdout",
          "output_type": "stream",
          "text": [
            "Berhasil membaca PRSA_Data_Dongsi_20130301-20170228.csv dengan 35064 baris.\n",
            "Berhasil membaca PRSA_Data_Guanyuan_20130301-20170228.csv dengan 35064 baris.\n"
          ]
        },
        {
          "name": "stderr",
          "output_type": "stream",
          "text": []
        },
        {
          "name": "stdout",
          "output_type": "stream",
          "text": [
            "Berhasil membaca PRSA_Data_Gucheng_20130301-20170228.csv dengan 35064 baris.\n",
            "Berhasil membaca PRSA_Data_Huairou_20130301-20170228.csv dengan 35064 baris.\n"
          ]
        },
        {
          "name": "stderr",
          "output_type": "stream",
          "text": [
            "\n"
          ]
        },
        {
          "name": "stdout",
          "output_type": "stream",
          "text": [
            "Berhasil membaca PRSA_Data_Nongzhanguan_20130301-20170228.csv dengan 35064 baris.\n",
            "Berhasil membaca PRSA_Data_Shunyi_20130301-20170228.csv dengan 35064 baris.\n",
            "Berhasil membaca PRSA_Data_Tiantan_20130301-20170228.csv dengan 35064 baris.\n"
          ]
        },
        {
          "name": "stderr",
          "output_type": "stream",
          "text": [
            "Membaca file CSV: 100%|██████████| 12/12 [00:01<00:00,  8.12it/s]\u001b[A\n"
          ]
        },
        {
          "name": "stdout",
          "output_type": "stream",
          "text": [
            "Berhasil membaca PRSA_Data_Wanliu_20130301-20170228.csv dengan 35064 baris.\n",
            "Berhasil membaca PRSA_Data_Wanshouxigong_20130301-20170228.csv dengan 35064 baris.\n",
            "Data gabungan memiliki 420768 baris dan 19 kolom.\n"
          ]
        },
        {
          "data": {
            "text/html": [
              "<div>\n",
              "<style scoped>\n",
              "    .dataframe tbody tr th:only-of-type {\n",
              "        vertical-align: middle;\n",
              "    }\n",
              "\n",
              "    .dataframe tbody tr th {\n",
              "        vertical-align: top;\n",
              "    }\n",
              "\n",
              "    .dataframe thead th {\n",
              "        text-align: right;\n",
              "    }\n",
              "</style>\n",
              "<table border=\"1\" class=\"dataframe\">\n",
              "  <thead>\n",
              "    <tr style=\"text-align: right;\">\n",
              "      <th></th>\n",
              "      <th>No</th>\n",
              "      <th>year</th>\n",
              "      <th>month</th>\n",
              "      <th>day</th>\n",
              "      <th>hour</th>\n",
              "      <th>PM2.5</th>\n",
              "      <th>PM10</th>\n",
              "      <th>SO2</th>\n",
              "      <th>NO2</th>\n",
              "      <th>CO</th>\n",
              "      <th>O3</th>\n",
              "      <th>TEMP</th>\n",
              "      <th>PRES</th>\n",
              "      <th>DEWP</th>\n",
              "      <th>RAIN</th>\n",
              "      <th>wd</th>\n",
              "      <th>WSPM</th>\n",
              "      <th>station</th>\n",
              "      <th>DateTime</th>\n",
              "    </tr>\n",
              "  </thead>\n",
              "  <tbody>\n",
              "    <tr>\n",
              "      <th>0</th>\n",
              "      <td>1</td>\n",
              "      <td>2013</td>\n",
              "      <td>3</td>\n",
              "      <td>1</td>\n",
              "      <td>0</td>\n",
              "      <td>4.0</td>\n",
              "      <td>4.0</td>\n",
              "      <td>4.0</td>\n",
              "      <td>7.0</td>\n",
              "      <td>300.0</td>\n",
              "      <td>77.0</td>\n",
              "      <td>-0.7</td>\n",
              "      <td>1023.0</td>\n",
              "      <td>-18.8</td>\n",
              "      <td>0.0</td>\n",
              "      <td>NNW</td>\n",
              "      <td>4.4</td>\n",
              "      <td>Aotizhongxin</td>\n",
              "      <td>2013-03-01 00:00:00</td>\n",
              "    </tr>\n",
              "    <tr>\n",
              "      <th>1</th>\n",
              "      <td>2</td>\n",
              "      <td>2013</td>\n",
              "      <td>3</td>\n",
              "      <td>1</td>\n",
              "      <td>1</td>\n",
              "      <td>8.0</td>\n",
              "      <td>8.0</td>\n",
              "      <td>4.0</td>\n",
              "      <td>7.0</td>\n",
              "      <td>300.0</td>\n",
              "      <td>77.0</td>\n",
              "      <td>-1.1</td>\n",
              "      <td>1023.2</td>\n",
              "      <td>-18.2</td>\n",
              "      <td>0.0</td>\n",
              "      <td>N</td>\n",
              "      <td>4.7</td>\n",
              "      <td>Aotizhongxin</td>\n",
              "      <td>2013-03-01 01:00:00</td>\n",
              "    </tr>\n",
              "    <tr>\n",
              "      <th>2</th>\n",
              "      <td>3</td>\n",
              "      <td>2013</td>\n",
              "      <td>3</td>\n",
              "      <td>1</td>\n",
              "      <td>2</td>\n",
              "      <td>7.0</td>\n",
              "      <td>7.0</td>\n",
              "      <td>5.0</td>\n",
              "      <td>10.0</td>\n",
              "      <td>300.0</td>\n",
              "      <td>73.0</td>\n",
              "      <td>-1.1</td>\n",
              "      <td>1023.5</td>\n",
              "      <td>-18.2</td>\n",
              "      <td>0.0</td>\n",
              "      <td>NNW</td>\n",
              "      <td>5.6</td>\n",
              "      <td>Aotizhongxin</td>\n",
              "      <td>2013-03-01 02:00:00</td>\n",
              "    </tr>\n",
              "    <tr>\n",
              "      <th>3</th>\n",
              "      <td>4</td>\n",
              "      <td>2013</td>\n",
              "      <td>3</td>\n",
              "      <td>1</td>\n",
              "      <td>3</td>\n",
              "      <td>6.0</td>\n",
              "      <td>6.0</td>\n",
              "      <td>11.0</td>\n",
              "      <td>11.0</td>\n",
              "      <td>300.0</td>\n",
              "      <td>72.0</td>\n",
              "      <td>-1.4</td>\n",
              "      <td>1024.5</td>\n",
              "      <td>-19.4</td>\n",
              "      <td>0.0</td>\n",
              "      <td>NW</td>\n",
              "      <td>3.1</td>\n",
              "      <td>Aotizhongxin</td>\n",
              "      <td>2013-03-01 03:00:00</td>\n",
              "    </tr>\n",
              "    <tr>\n",
              "      <th>4</th>\n",
              "      <td>5</td>\n",
              "      <td>2013</td>\n",
              "      <td>3</td>\n",
              "      <td>1</td>\n",
              "      <td>4</td>\n",
              "      <td>3.0</td>\n",
              "      <td>3.0</td>\n",
              "      <td>12.0</td>\n",
              "      <td>12.0</td>\n",
              "      <td>300.0</td>\n",
              "      <td>72.0</td>\n",
              "      <td>-2.0</td>\n",
              "      <td>1025.2</td>\n",
              "      <td>-19.5</td>\n",
              "      <td>0.0</td>\n",
              "      <td>N</td>\n",
              "      <td>2.0</td>\n",
              "      <td>Aotizhongxin</td>\n",
              "      <td>2013-03-01 04:00:00</td>\n",
              "    </tr>\n",
              "  </tbody>\n",
              "</table>\n",
              "</div>"
            ],
            "text/plain": [
              "   No  year  month  day  hour  PM2.5  PM10   SO2   NO2     CO    O3  TEMP  \\\n",
              "0   1  2013      3    1     0    4.0   4.0   4.0   7.0  300.0  77.0  -0.7   \n",
              "1   2  2013      3    1     1    8.0   8.0   4.0   7.0  300.0  77.0  -1.1   \n",
              "2   3  2013      3    1     2    7.0   7.0   5.0  10.0  300.0  73.0  -1.1   \n",
              "3   4  2013      3    1     3    6.0   6.0  11.0  11.0  300.0  72.0  -1.4   \n",
              "4   5  2013      3    1     4    3.0   3.0  12.0  12.0  300.0  72.0  -2.0   \n",
              "\n",
              "     PRES  DEWP  RAIN   wd  WSPM       station            DateTime  \n",
              "0  1023.0 -18.8   0.0  NNW   4.4  Aotizhongxin 2013-03-01 00:00:00  \n",
              "1  1023.2 -18.2   0.0    N   4.7  Aotizhongxin 2013-03-01 01:00:00  \n",
              "2  1023.5 -18.2   0.0  NNW   5.6  Aotizhongxin 2013-03-01 02:00:00  \n",
              "3  1024.5 -19.4   0.0   NW   3.1  Aotizhongxin 2013-03-01 03:00:00  \n",
              "4  1025.2 -19.5   0.0    N   2.0  Aotizhongxin 2013-03-01 04:00:00  "
            ]
          },
          "execution_count": 22,
          "metadata": {},
          "output_type": "execute_result"
        }
      ],
      "source": [
        "import pandas as pd\n",
        "from pathlib import Path\n",
        "from tqdm import tqdm\n",
        "\n",
        "data_dir = Path('data/')\n",
        "\n",
        "if not data_dir.exists():\n",
        "    raise FileNotFoundError(f\"Direktori {data_dir} tidak ditemukan. Pastikan path benar.\")\n",
        "\n",
        "csv_files = list(data_dir.glob('*.csv'))\n",
        "\n",
        "if not csv_files:\n",
        "    raise FileNotFoundError(f\"Tidak ada file CSV ditemukan di direktori {data_dir}.\")\n",
        "\n",
        "print(f\"Ditemukan {len(csv_files)} file CSV di direktori {data_dir}.\")\n",
        "df_list = []\n",
        "\n",
        "for file in tqdm(csv_files, desc=\"Membaca file CSV\"):\n",
        "    try:\n",
        "        df = pd.read_csv(file)\n",
        "        df['DateTime'] = pd.to_datetime(df[['year', 'month', 'day', 'hour']])\n",
        "        df_list.append(df)\n",
        "        print(f\"Berhasil membaca {file.name} dengan {df.shape[0]} baris.\")\n",
        "    except Exception as e:\n",
        "        print(f\"Gagal membaca {file.name}: {e}\")\n",
        "\n",
        "if df_list:\n",
        "    combined_df = pd.concat(df_list, ignore_index=True)\n",
        "    print(f\"Data gabungan memiliki {combined_df.shape[0]} baris dan {combined_df.shape[1]} kolom.\")\n",
        "else:\n",
        "    raise ValueError(\"Tidak ada data yang berhasil dibaca.\")\n",
        "\n",
        "combined_df.head()\n"
      ]
    },
    {
      "cell_type": "markdown",
      "metadata": {},
      "source": [
        "**Insights:**\n",
        "- Dataset memiliki total **420,768** baris dan **19** kolom.\n",
        "- Tipe data bervariasi, dengan sebagian besar kolom numerik (`int64` dan `float64`) dan beberapa kolom kategorikal seperti `station` dan `wd` (arah angin).\n",
        "- Dataset terdiri dari data kualitas udara dari banyak stasiun: Aotizhongxin, Changping, Dingling, Dongsi, Guanyuan, Gucheng, Huairou, Nongzhanguan, Shunyi, Tiantan, Wanliu, Wanshouxigong.\n",
        "- Variabel polutan meliputi PM2.5, PM10, NO2, CO, O3, SO2.\n",
        "- Data juga mencakup kondisi cuaca seperti suhu (TEMP), tekanan udara (PRES), kelembaban (DEWP), curah hujan (RAIN), arah angin (wd), dan kecepatan angin (WSPM).\n"
      ]
    },
    {
      "cell_type": "markdown",
      "metadata": {
        "id": "sXU2GBYu8DC1"
      },
      "source": [
        "### Assessing Data\n",
        "Pada tahap ini, kita akan melihat struktur data, tipe data, dan statistik deskriptif dari dataset. Langkah-langkah yang akan dilakukan adalah:\n",
        "- Melihat informasi dasar dataset.\n",
        "- Melihat statistik deskriptif dari dataset.\n",
        "- Melihat jumlah nilai yang hilang pada dataset.\n",
        "- Melihat nilai unik dari setiap kolom kategorikal, seperti `station` dan `wd`."
      ]
    },
    {
      "cell_type": "code",
      "execution_count": 23,
      "metadata": {
        "id": "zjCBk1BI8DC1"
      },
      "outputs": [
        {
          "name": "stdout",
          "output_type": "stream",
          "text": [
            "<class 'pandas.core.frame.DataFrame'>\n",
            "RangeIndex: 420768 entries, 0 to 420767\n",
            "Data columns (total 19 columns):\n",
            " #   Column    Non-Null Count   Dtype         \n",
            "---  ------    --------------   -----         \n",
            " 0   No        420768 non-null  int64         \n",
            " 1   year      420768 non-null  int64         \n",
            " 2   month     420768 non-null  int64         \n",
            " 3   day       420768 non-null  int64         \n",
            " 4   hour      420768 non-null  int64         \n",
            " 5   PM2.5     412029 non-null  float64       \n",
            " 6   PM10      414319 non-null  float64       \n",
            " 7   SO2       411747 non-null  float64       \n",
            " 8   NO2       408652 non-null  float64       \n",
            " 9   CO        400067 non-null  float64       \n",
            " 10  O3        407491 non-null  float64       \n",
            " 11  TEMP      420370 non-null  float64       \n",
            " 12  PRES      420375 non-null  float64       \n",
            " 13  DEWP      420365 non-null  float64       \n",
            " 14  RAIN      420378 non-null  float64       \n",
            " 15  wd        418946 non-null  object        \n",
            " 16  WSPM      420450 non-null  float64       \n",
            " 17  station   420768 non-null  object        \n",
            " 18  DateTime  420768 non-null  datetime64[ns]\n",
            "dtypes: datetime64[ns](1), float64(11), int64(5), object(2)\n",
            "memory usage: 61.0+ MB\n"
          ]
        }
      ],
      "source": [
        "# Melihat informasi dasar dataset\n",
        "combined_df.info()"
      ]
    },
    {
      "cell_type": "code",
      "execution_count": 24,
      "metadata": {},
      "outputs": [
        {
          "data": {
            "text/html": [
              "<div>\n",
              "<style scoped>\n",
              "    .dataframe tbody tr th:only-of-type {\n",
              "        vertical-align: middle;\n",
              "    }\n",
              "\n",
              "    .dataframe tbody tr th {\n",
              "        vertical-align: top;\n",
              "    }\n",
              "\n",
              "    .dataframe thead th {\n",
              "        text-align: right;\n",
              "    }\n",
              "</style>\n",
              "<table border=\"1\" class=\"dataframe\">\n",
              "  <thead>\n",
              "    <tr style=\"text-align: right;\">\n",
              "      <th></th>\n",
              "      <th>No</th>\n",
              "      <th>year</th>\n",
              "      <th>month</th>\n",
              "      <th>day</th>\n",
              "      <th>hour</th>\n",
              "      <th>PM2.5</th>\n",
              "      <th>PM10</th>\n",
              "      <th>SO2</th>\n",
              "      <th>NO2</th>\n",
              "      <th>CO</th>\n",
              "      <th>O3</th>\n",
              "      <th>TEMP</th>\n",
              "      <th>PRES</th>\n",
              "      <th>DEWP</th>\n",
              "      <th>RAIN</th>\n",
              "      <th>WSPM</th>\n",
              "      <th>DateTime</th>\n",
              "    </tr>\n",
              "  </thead>\n",
              "  <tbody>\n",
              "    <tr>\n",
              "      <th>count</th>\n",
              "      <td>420768.000000</td>\n",
              "      <td>420768.000000</td>\n",
              "      <td>420768.000000</td>\n",
              "      <td>420768.000000</td>\n",
              "      <td>420768.000000</td>\n",
              "      <td>412029.000000</td>\n",
              "      <td>414319.000000</td>\n",
              "      <td>411747.000000</td>\n",
              "      <td>408652.000000</td>\n",
              "      <td>400067.000000</td>\n",
              "      <td>407491.000000</td>\n",
              "      <td>420370.000000</td>\n",
              "      <td>420375.000000</td>\n",
              "      <td>420365.000000</td>\n",
              "      <td>420378.000000</td>\n",
              "      <td>420450.000000</td>\n",
              "      <td>420768</td>\n",
              "    </tr>\n",
              "    <tr>\n",
              "      <th>mean</th>\n",
              "      <td>17532.500000</td>\n",
              "      <td>2014.662560</td>\n",
              "      <td>6.522930</td>\n",
              "      <td>15.729637</td>\n",
              "      <td>11.500000</td>\n",
              "      <td>79.793428</td>\n",
              "      <td>104.602618</td>\n",
              "      <td>15.830835</td>\n",
              "      <td>50.638586</td>\n",
              "      <td>1230.766454</td>\n",
              "      <td>57.372271</td>\n",
              "      <td>13.538976</td>\n",
              "      <td>1010.746982</td>\n",
              "      <td>2.490822</td>\n",
              "      <td>0.064476</td>\n",
              "      <td>1.729711</td>\n",
              "      <td>2015-03-01 11:30:00.000001024</td>\n",
              "    </tr>\n",
              "    <tr>\n",
              "      <th>min</th>\n",
              "      <td>1.000000</td>\n",
              "      <td>2013.000000</td>\n",
              "      <td>1.000000</td>\n",
              "      <td>1.000000</td>\n",
              "      <td>0.000000</td>\n",
              "      <td>2.000000</td>\n",
              "      <td>2.000000</td>\n",
              "      <td>0.285600</td>\n",
              "      <td>1.026500</td>\n",
              "      <td>100.000000</td>\n",
              "      <td>0.214200</td>\n",
              "      <td>-19.900000</td>\n",
              "      <td>982.400000</td>\n",
              "      <td>-43.400000</td>\n",
              "      <td>0.000000</td>\n",
              "      <td>0.000000</td>\n",
              "      <td>2013-03-01 00:00:00</td>\n",
              "    </tr>\n",
              "    <tr>\n",
              "      <th>25%</th>\n",
              "      <td>8766.750000</td>\n",
              "      <td>2014.000000</td>\n",
              "      <td>4.000000</td>\n",
              "      <td>8.000000</td>\n",
              "      <td>5.750000</td>\n",
              "      <td>20.000000</td>\n",
              "      <td>36.000000</td>\n",
              "      <td>3.000000</td>\n",
              "      <td>23.000000</td>\n",
              "      <td>500.000000</td>\n",
              "      <td>11.000000</td>\n",
              "      <td>3.100000</td>\n",
              "      <td>1002.300000</td>\n",
              "      <td>-8.900000</td>\n",
              "      <td>0.000000</td>\n",
              "      <td>0.900000</td>\n",
              "      <td>2014-03-01 05:45:00</td>\n",
              "    </tr>\n",
              "    <tr>\n",
              "      <th>50%</th>\n",
              "      <td>17532.500000</td>\n",
              "      <td>2015.000000</td>\n",
              "      <td>7.000000</td>\n",
              "      <td>16.000000</td>\n",
              "      <td>11.500000</td>\n",
              "      <td>55.000000</td>\n",
              "      <td>82.000000</td>\n",
              "      <td>7.000000</td>\n",
              "      <td>43.000000</td>\n",
              "      <td>900.000000</td>\n",
              "      <td>45.000000</td>\n",
              "      <td>14.500000</td>\n",
              "      <td>1010.400000</td>\n",
              "      <td>3.100000</td>\n",
              "      <td>0.000000</td>\n",
              "      <td>1.400000</td>\n",
              "      <td>2015-03-01 11:30:00</td>\n",
              "    </tr>\n",
              "    <tr>\n",
              "      <th>75%</th>\n",
              "      <td>26298.250000</td>\n",
              "      <td>2016.000000</td>\n",
              "      <td>10.000000</td>\n",
              "      <td>23.000000</td>\n",
              "      <td>17.250000</td>\n",
              "      <td>111.000000</td>\n",
              "      <td>145.000000</td>\n",
              "      <td>20.000000</td>\n",
              "      <td>71.000000</td>\n",
              "      <td>1500.000000</td>\n",
              "      <td>82.000000</td>\n",
              "      <td>23.300000</td>\n",
              "      <td>1019.000000</td>\n",
              "      <td>15.100000</td>\n",
              "      <td>0.000000</td>\n",
              "      <td>2.200000</td>\n",
              "      <td>2016-02-29 17:15:00</td>\n",
              "    </tr>\n",
              "    <tr>\n",
              "      <th>max</th>\n",
              "      <td>35064.000000</td>\n",
              "      <td>2017.000000</td>\n",
              "      <td>12.000000</td>\n",
              "      <td>31.000000</td>\n",
              "      <td>23.000000</td>\n",
              "      <td>999.000000</td>\n",
              "      <td>999.000000</td>\n",
              "      <td>500.000000</td>\n",
              "      <td>290.000000</td>\n",
              "      <td>10000.000000</td>\n",
              "      <td>1071.000000</td>\n",
              "      <td>41.600000</td>\n",
              "      <td>1042.800000</td>\n",
              "      <td>29.100000</td>\n",
              "      <td>72.500000</td>\n",
              "      <td>13.200000</td>\n",
              "      <td>2017-02-28 23:00:00</td>\n",
              "    </tr>\n",
              "    <tr>\n",
              "      <th>std</th>\n",
              "      <td>10122.116943</td>\n",
              "      <td>1.177198</td>\n",
              "      <td>3.448707</td>\n",
              "      <td>8.800102</td>\n",
              "      <td>6.922195</td>\n",
              "      <td>80.822391</td>\n",
              "      <td>91.772426</td>\n",
              "      <td>21.650603</td>\n",
              "      <td>35.127912</td>\n",
              "      <td>1160.182716</td>\n",
              "      <td>56.661607</td>\n",
              "      <td>11.436139</td>\n",
              "      <td>10.474055</td>\n",
              "      <td>13.793847</td>\n",
              "      <td>0.821004</td>\n",
              "      <td>1.246386</td>\n",
              "      <td>NaN</td>\n",
              "    </tr>\n",
              "  </tbody>\n",
              "</table>\n",
              "</div>"
            ],
            "text/plain": [
              "                  No           year          month            day  \\\n",
              "count  420768.000000  420768.000000  420768.000000  420768.000000   \n",
              "mean    17532.500000    2014.662560       6.522930      15.729637   \n",
              "min         1.000000    2013.000000       1.000000       1.000000   \n",
              "25%      8766.750000    2014.000000       4.000000       8.000000   \n",
              "50%     17532.500000    2015.000000       7.000000      16.000000   \n",
              "75%     26298.250000    2016.000000      10.000000      23.000000   \n",
              "max     35064.000000    2017.000000      12.000000      31.000000   \n",
              "std     10122.116943       1.177198       3.448707       8.800102   \n",
              "\n",
              "                hour          PM2.5           PM10            SO2  \\\n",
              "count  420768.000000  412029.000000  414319.000000  411747.000000   \n",
              "mean       11.500000      79.793428     104.602618      15.830835   \n",
              "min         0.000000       2.000000       2.000000       0.285600   \n",
              "25%         5.750000      20.000000      36.000000       3.000000   \n",
              "50%        11.500000      55.000000      82.000000       7.000000   \n",
              "75%        17.250000     111.000000     145.000000      20.000000   \n",
              "max        23.000000     999.000000     999.000000     500.000000   \n",
              "std         6.922195      80.822391      91.772426      21.650603   \n",
              "\n",
              "                 NO2             CO             O3           TEMP  \\\n",
              "count  408652.000000  400067.000000  407491.000000  420370.000000   \n",
              "mean       50.638586    1230.766454      57.372271      13.538976   \n",
              "min         1.026500     100.000000       0.214200     -19.900000   \n",
              "25%        23.000000     500.000000      11.000000       3.100000   \n",
              "50%        43.000000     900.000000      45.000000      14.500000   \n",
              "75%        71.000000    1500.000000      82.000000      23.300000   \n",
              "max       290.000000   10000.000000    1071.000000      41.600000   \n",
              "std        35.127912    1160.182716      56.661607      11.436139   \n",
              "\n",
              "                PRES           DEWP           RAIN           WSPM  \\\n",
              "count  420375.000000  420365.000000  420378.000000  420450.000000   \n",
              "mean     1010.746982       2.490822       0.064476       1.729711   \n",
              "min       982.400000     -43.400000       0.000000       0.000000   \n",
              "25%      1002.300000      -8.900000       0.000000       0.900000   \n",
              "50%      1010.400000       3.100000       0.000000       1.400000   \n",
              "75%      1019.000000      15.100000       0.000000       2.200000   \n",
              "max      1042.800000      29.100000      72.500000      13.200000   \n",
              "std        10.474055      13.793847       0.821004       1.246386   \n",
              "\n",
              "                            DateTime  \n",
              "count                         420768  \n",
              "mean   2015-03-01 11:30:00.000001024  \n",
              "min              2013-03-01 00:00:00  \n",
              "25%              2014-03-01 05:45:00  \n",
              "50%              2015-03-01 11:30:00  \n",
              "75%              2016-02-29 17:15:00  \n",
              "max              2017-02-28 23:00:00  \n",
              "std                              NaN  "
            ]
          },
          "execution_count": 24,
          "metadata": {},
          "output_type": "execute_result"
        }
      ],
      "source": [
        "# Menampilkan statistik deskriptif untuk kolom numerik\n",
        "combined_df.describe()"
      ]
    },
    {
      "cell_type": "code",
      "execution_count": 25,
      "metadata": {},
      "outputs": [
        {
          "data": {
            "text/plain": [
              "No              0\n",
              "year            0\n",
              "month           0\n",
              "day             0\n",
              "hour            0\n",
              "PM2.5        8739\n",
              "PM10         6449\n",
              "SO2          9021\n",
              "NO2         12116\n",
              "CO          20701\n",
              "O3          13277\n",
              "TEMP          398\n",
              "PRES          393\n",
              "DEWP          403\n",
              "RAIN          390\n",
              "wd           1822\n",
              "WSPM          318\n",
              "station         0\n",
              "DateTime        0\n",
              "dtype: int64"
            ]
          },
          "execution_count": 25,
          "metadata": {},
          "output_type": "execute_result"
        }
      ],
      "source": [
        "# Menampilkan jumlah nilai yang hilang per kolom\n",
        "combined_df.isnull().sum()"
      ]
    },
    {
      "cell_type": "code",
      "execution_count": 26,
      "metadata": {},
      "outputs": [
        {
          "name": "stdout",
          "output_type": "stream",
          "text": [
            "Jumlah nilai unik per kolom:\n",
            "- wd: 16 nilai unik\n",
            "- station: 12 nilai unik\n"
          ]
        }
      ],
      "source": [
        "# Menampilkan jumlah nilai unik untuk kolom kategorikal (misalnya, 'station' dan 'wd')\n",
        "print(\"Jumlah nilai unik per kolom:\")\n",
        "for column in combined_df.select_dtypes(include=['object']).columns:\n",
        "    unique_values = combined_df[column].nunique()\n",
        "    print(f\"- {column}: {unique_values} nilai unik\")"
      ]
    },
    {
      "cell_type": "markdown",
      "metadata": {
        "id": "MMi6xGaDkbCi"
      },
      "source": [
        "**Insight:**\n",
        "\n",
        "- **Statistik Deskriptif:**\n",
        "  - **Polutan:**\n",
        "    - **PM2.5** memiliki rata-rata **79.79 µg/m³**, dengan nilai minimum **2 µg/m³** dan maksimum **999 µg/m³**.\n",
        "    - **PM10** memiliki rata-rata **104.60 µg/m³**, dengan nilai minimum **2 µg/m³** dan maksimum **999 µg/m³**.\n",
        "    - **SO2** memiliki rata-rata **15.83 µg/m³**, dengan rentang **0.29 µg/m³** hingga **500 µg/m³**.\n",
        "    - **NO2** memiliki rata-rata **50.64 µg/m³**, dengan rentang **1.03 µg/m³** hingga **290 µg/m³**.\n",
        "    - **CO** memiliki rata-rata **1230.77 µg/m³**, dengan rentang **100.00 µg/m³** hingga **10,000 µg/m³**.\n",
        "    - **O3** memiliki rata-rata **57.37 µg/m³**, dengan rentang **0.21 µg/m³** hingga **1,071 µg/m³**.\n",
        "  - **Kondisi Cuaca:**\n",
        "    - **TEMP** (suhu) memiliki rata-rata **13.54°C**, dengan rentang dari **-19.90°C** hingga **41.60°C**.\n",
        "    - **PRES** (tekanan udara) rata-rata **1,010.75 hPa**, dengan rentang **982.40 hPa** hingga **1,042.80 hPa**.\n",
        "    - **DEWP** (kelembaban) rata-rata **2.49°C**, dengan rentang **-43.40°C** hingga **29.10°C**.\n",
        "    - **RAIN** (curah hujan) rata-rata **0.0645 mm**, menunjukkan sebagian besar waktu tidak terjadi hujan.\n",
        "    - **WSPM** (kecepatan angin) rata-rata **1.73 m/s**.\n",
        "\n",
        "- **Nilai yang Hilang:**\n",
        "  - **Polutan:**\n",
        "    - **PM2.5**: 8,739 nilai hilang\n",
        "    - **PM10**: 6,449 nilai hilang\n",
        "    - **SO2**: 9,021 nilai hilang\n",
        "    - **NO2**: 12,116 nilai hilang\n",
        "    - **CO**: 20,701 nilai hilang\n",
        "    - **O3**: 13,277 nilai hilang\n",
        "  - **Kondisi Cuaca:**\n",
        "    - **TEMP**: 398 nilai hilang\n",
        "    - **PRES**: 393 nilai hilang\n",
        "    - **DEWP**: 403 nilai hilang\n",
        "    - **RAIN**: 390 nilai hilang\n",
        "    - **WSPM**: 318 nilai hilang\n",
        "  - **Kategorikal:**\n",
        "    - **wd**: 1,822 nilai hilang\n",
        "\n",
        "- **Jumlah Nilai Unik:**\n",
        "  - **station**: **12** stasiun berbeda, menunjukkan data berasal dari 12 lokasi pengukuran yang berbeda.\n",
        "  - **wd** (arah angin): **16** arah angin berbeda, yang dapat relevan dalam analisis hubungan antara arah angin dan tingkat polusi.\n"
      ]
    },
    {
      "cell_type": "markdown",
      "metadata": {
        "id": "FHSiqaZp8DC1"
      },
      "source": [
        "### Cleaning Data\n",
        "Pada tahap ini, kita akan melakukan pembersihan data untuk memastikan kualitas data sebelum melakukan analisis lebih lanjut. Langkah-langkah yang akan dilakukan meliputi:\n",
        " \n",
        "1. **Menangani Nilai yang Hilang:**\n",
        "   - Mengisi nilai yang hilang pada kolom numerik dengan median.\n",
        "   - Mengisi nilai yang hilang pada kolom kategorikal dengan mode atau kategori khusus seperti `'Unknown'`.\n",
        " \n",
        "2. **Menghapus Duplikasi:**\n",
        "   - Memeriksa dan menghapus baris duplikat jika ada.\n",
        "\n",
        "3. **Memastikan Konsistensi Data:**\n",
        "   - Memeriksa konsistensi data dalam kolom kategorikal.\n",
        "\n",
        "4. **Menghapus Kolom yang Tidak Diperlukan:**\n",
        "   - Menghapus kolom yang tidak relevan untuk analisis."
      ]
    },
    {
      "cell_type": "markdown",
      "metadata": {},
      "source": [
        "**Menangani Nilai yang Hilang**  \n",
        "Kita akan mengisi nilai yang hilang pada kolom numerik dengan median, dan pada kolom kategorikal dengan mode."
      ]
    },
    {
      "cell_type": "code",
      "execution_count": 27,
      "metadata": {
        "id": "ax-3tEjc9Cj1"
      },
      "outputs": [
        {
          "name": "stdout",
          "output_type": "stream",
          "text": [
            "\n",
            "Jumlah nilai yang hilang setelah penanganan:\n",
            "No          0\n",
            "year        0\n",
            "month       0\n",
            "day         0\n",
            "hour        0\n",
            "PM2.5       0\n",
            "PM10        0\n",
            "SO2         0\n",
            "NO2         0\n",
            "CO          0\n",
            "O3          0\n",
            "TEMP        0\n",
            "PRES        0\n",
            "DEWP        0\n",
            "RAIN        0\n",
            "wd          0\n",
            "WSPM        0\n",
            "station     0\n",
            "DateTime    0\n",
            "dtype: int64\n"
          ]
        }
      ],
      "source": [
        "numerical_cols = combined_df.select_dtypes(include=['int64', 'float64']).columns.tolist()\n",
        "\n",
        "combined_df[numerical_cols] = combined_df[numerical_cols].fillna(combined_df[numerical_cols].median())\n",
        "\n",
        "categorical_cols = combined_df.select_dtypes(include=['object']).columns.tolist()\n",
        "\n",
        "for column in categorical_cols:\n",
        "    mode_value = combined_df[column].mode()[0]\n",
        "    combined_df[column] = combined_df[column].fillna(mode_value)\n",
        "\n",
        "print(\"\\nJumlah nilai yang hilang setelah penanganan:\")\n",
        "print(combined_df.isnull().sum())"
      ]
    },
    {
      "cell_type": "markdown",
      "metadata": {},
      "source": [
        "**Menghapus Duplikasi**  \n",
        "Kita akan memeriksa dan menghapus baris duplikat jika ada. Setelah itu, kita akan memeriksa apakah duplikasi telah dihapus."
      ]
    },
    {
      "cell_type": "code",
      "execution_count": 28,
      "metadata": {},
      "outputs": [
        {
          "name": "stdout",
          "output_type": "stream",
          "text": [
            "\n",
            "Jumlah duplikasi sebelum penghapusan: 0\n",
            "Jumlah duplikasi setelah penghapusan: 0\n"
          ]
        }
      ],
      "source": [
        "duplicate_count = combined_df.duplicated().sum()\n",
        "print(f\"\\nJumlah duplikasi sebelum penghapusan: {duplicate_count}\")\n",
        "\n",
        "combined_df = combined_df.drop_duplicates()\n",
        "\n",
        "duplicate_count_after = combined_df.duplicated().sum()\n",
        "print(f\"Jumlah duplikasi setelah penghapusan: {duplicate_count_after}\")"
      ]
    },
    {
      "cell_type": "markdown",
      "metadata": {},
      "source": [
        "**Menghapus Outliers**  \n",
        "Kita akan memeriksa adanya outliers pada kolom numerik seperti `PM2.5`, `PM10`, `SO2`, `NO2`, `CO`, `O3`, `TEMP`, `PRES`, `DEWP`, `RAIN`, dan `WSPM`. Kita akan menghapus outliers dengan menggunakan metode IQR (Interquartile Range)."
      ]
    },
    {
      "cell_type": "code",
      "execution_count": 29,
      "metadata": {},
      "outputs": [
        {
          "name": "stdout",
          "output_type": "stream",
          "text": [
            "Kolom PM2.5: Mengurangi dari 420768 menjadi 400012 baris.\n",
            "Kolom PM10: Mengurangi dari 400012 menjadi 394591 baris.\n",
            "Kolom SO2: Mengurangi dari 394591 menjadi 360030 baris.\n",
            "Kolom NO2: Mengurangi dari 360030 menjadi 354728 baris.\n",
            "Kolom CO: Mengurangi dari 354728 menjadi 336217 baris.\n",
            "Kolom O3: Mengurangi dari 336217 menjadi 319492 baris.\n",
            "Kolom TEMP: Mengurangi dari 319492 menjadi 319492 baris.\n",
            "Kolom PRES: Mengurangi dari 319492 menjadi 319492 baris.\n",
            "Kolom DEWP: Mengurangi dari 319492 menjadi 319492 baris.\n",
            "Kolom RAIN: Mengurangi dari 319492 menjadi 304615 baris.\n",
            "Kolom WSPM: Mengurangi dari 304615 menjadi 289703 baris.\n"
          ]
        }
      ],
      "source": [
        "def remove_outliers(df, column):\n",
        "    Q1 = df[column].quantile(0.25)\n",
        "    Q3 = df[column].quantile(0.75)\n",
        "    IQR = Q3 - Q1\n",
        "    lower_bound = Q1 - 1.5 * IQR\n",
        "    upper_bound = Q3 + 1.5 * IQR\n",
        "    # Mengembalikan DataFrame tanpa outlier\n",
        "    return df[(df[column] >= lower_bound) & (df[column] <= upper_bound)]\n",
        "\n",
        "cols_to_check = ['PM2.5', 'PM10', 'SO2', 'NO2', 'CO', 'O3', 'TEMP', 'PRES', 'DEWP', 'RAIN', 'WSPM']\n",
        "\n",
        "for col in cols_to_check:\n",
        "    initial_shape = combined_df.shape\n",
        "    combined_df = remove_outliers(combined_df, col)\n",
        "    final_shape = combined_df.shape\n",
        "    print(f\"Kolom {col}: Mengurangi dari {initial_shape[0]} menjadi {final_shape[0]} baris.\")"
      ]
    },
    {
      "cell_type": "markdown",
      "metadata": {},
      "source": [
        "**Memastikan Konsistensi Data**  \n",
        "Untuk memastikan konsistensi data, kita akan melakukan dua hal:\n",
        "- Memeriksa konsistensi data dalam kolom kategorikal seperti `station` dan `wd`. Kita akan memastikan bahwa data dalam kolom tersebut konsisten dan tidak ada kesalahan penulisan.\n",
        "- Memastikan tidak ada nilai yang tidak konsisten atau salah eja pada kolom 'station'. Misalnya, jika ada spasi tambahan atau kapitalisasi yang tidak konsisten"
      ]
    },
    {
      "cell_type": "code",
      "execution_count": 30,
      "metadata": {},
      "outputs": [
        {
          "name": "stdout",
          "output_type": "stream",
          "text": [
            "\n",
            "Daftar stasiun yang tersedia:\n",
            "['Aotizhongxin' 'Changping' 'Dingling' 'Dongsi' 'Guanyuan' 'Gucheng'\n",
            " 'Huairou' 'Nongzhanguan' 'Shunyi' 'Tiantan' 'Wanliu' 'Wanshouxigong']\n",
            "\n",
            "Daftar arah angin yang tersedia:\n",
            "['NNW' 'NW' 'N' 'NNE' 'ENE' 'E' 'NE' 'W' 'SSW' 'WSW' 'SE' 'WNW' 'SSE' 'S'\n",
            " 'SW' 'ESE']\n"
          ]
        }
      ],
      "source": [
        "print(\"\\nDaftar stasiun yang tersedia:\")\n",
        "print(combined_df['station'].unique())\n",
        "\n",
        "print(\"\\nDaftar arah angin yang tersedia:\")\n",
        "print(combined_df['wd'].unique())"
      ]
    },
    {
      "cell_type": "code",
      "execution_count": 32,
      "metadata": {},
      "outputs": [
        {
          "name": "stdout",
          "output_type": "stream",
          "text": [
            "\n",
            "Daftar stasiun setelah pembersihan:\n",
            "['Aotizhongxin' 'Changping' 'Dingling' 'Dongsi' 'Guanyuan' 'Gucheng'\n",
            " 'Huairou' 'Nongzhanguan' 'Shunyi' 'Tiantan' 'Wanliu' 'Wanshouxigong']\n",
            "\n",
            "Daftar arah angin setelah pembersihan:\n",
            "['NNW' 'NW' 'N' 'NNE' 'ENE' 'E' 'NE' 'W' 'SSW' 'WSW' 'SE' 'WNW' 'SSE' 'S'\n",
            " 'SW' 'ESE']\n"
          ]
        }
      ],
      "source": [
        "combined_df['station'] = combined_df['station'].str.strip().str.title()\n",
        "combined_df['wd'] = combined_df['wd'].str.strip().str.upper()\n",
        "\n",
        "print(\"\\nDaftar stasiun setelah pembersihan:\")\n",
        "print(combined_df['station'].unique())\n",
        "print(\"\\nDaftar arah angin setelah pembersihan:\")\n",
        "print(combined_df['wd'].unique())"
      ]
    },
    {
      "cell_type": "markdown",
      "metadata": {
        "id": "7dtxhAPrkhPL"
      },
      "source": [
        "**Insight:**\n",
        "- **Penanganan Nilai yang Hilang:**\n",
        "  - Setelah proses pembersihan data, **semua kolom** dalam dataset **tidak lagi memiliki nilai yang hilang**. Analisis selanjutnya tidak akan terpengaruh oleh kekurangan data.\n",
        "  - **Metode Penanganan:**\n",
        "    - Semua nilai yang hilang pada kolom numerik (`PM2.5`, `PM10`, `SO2`, `NO2`, `CO`, `O3`, `TEMP`, `PRES`, `DEWP`, `RAIN`, `WSPM`) diisi dengan **median** masing-masing kolom. Penggunaan median efektif untuk mengurangi dampak outlier dan menjaga distribusi data tetap stabil.\n",
        "    - Nilai yang hilang pada kolom `wd` diisi dengan **mode** (nilai yang paling sering muncul). Hal ini bertujuan memastikan konsistensi kategori yang digunakan dalam analisis selanjutnya.\n",
        "\n",
        "- **Penghapusan Duplikasi Data:**\n",
        "  - Dataset **tidak** memiliki duplikasi data baik sebelum maupun setelah proses penghapusan.\n",
        "\n",
        "- **Penanganan Outlier:**\n",
        "  - Proses penghapusan outlier telah mengurangi jumlah baris dalam dataset secara signifikan pada beberapa kolom polutan utama:\n",
        "    - **PM2.5:** Berkurang dari **420,768** menjadi **400,012** baris.\n",
        "    - **PM10:** Berkurang dari **400,012** menjadi **394,591** baris.\n",
        "    - **SO2:** Berkurang dari **394,591** menjadi **360,030** baris.\n",
        "    - **NO2:** Berkurang dari **360,030** menjadi **354,728** baris.\n",
        "    - **CO:** Berkurang dari **354,728** menjadi **336,217** baris.\n",
        "    - **O3:** Berkurang dari **336,217** menjadi **319,492** baris.\n",
        "    - **RAIN:** Berkurang dari **319,492** menjadi **304,615** baris.\n",
        "    - **WSPM:** Berkurang dari **304,615** menjadi **289,703** baris.\n",
        "  - Kolom `TEMP`, `PRES`, dan `DEWP` tidak mengalami pengurangan jumlah baris\n",
        "  - **Dampak Penghapusan Outlier:**\n",
        "    - Dengan menghapus outlier, data yang tersisa lebih representatif dan bebas dari nilai ekstrem yang dapat mengganggu analisis statistik dan model prediktif.\n",
        "    - Penghapusan nilai-nilai yang tidak wajar memungkinkan analisis yang lebih akurat mengenai tren dan hubungan antar variabel.\n",
        "\n",
        "- **Konsistensi Data Kategorikal:**\n",
        "  - Daftar stasiun tetap konsisten sebelum dan setelah pembersihan, dengan **12 stasiun** yang berbeda. Ini memastikan bahwa data berasal dari **12 lokasi pengukuran** yang berbeda tanpa adanya variasi penulisan atau ejaan yang tidak konsisten.\n",
        "  - Daftar arah angin juga tetap konsisten dengan **16 arah angin** yang berbeda setelah pembersihan. Ini menjaga integritas data kategorikal tanpa perlu melakukan standarisasi tambahan."
      ]
    },
    {
      "cell_type": "markdown",
      "metadata": {
        "id": "gp-Y6wU38DC1"
      },
      "source": [
        "## Exploratory Data Analysis (EDA)"
      ]
    },
    {
      "cell_type": "markdown",
      "metadata": {
        "id": "MW7WF2kr8DC1"
      },
      "source": [
        "### Explore ..."
      ]
    },
    {
      "cell_type": "code",
      "execution_count": null,
      "metadata": {
        "id": "e9CQCZjk8DC2"
      },
      "outputs": [],
      "source": []
    },
    {
      "cell_type": "markdown",
      "metadata": {
        "id": "th_Lzl2Fkj9O"
      },
      "source": [
        "**Insight:**\n",
        "- xxx\n",
        "- xxx"
      ]
    },
    {
      "cell_type": "markdown",
      "metadata": {
        "id": "zsyZjqak8DC2"
      },
      "source": [
        "## Visualization & Explanatory Analysis"
      ]
    },
    {
      "cell_type": "markdown",
      "metadata": {
        "id": "HZxOiQ6n8DC2"
      },
      "source": [
        "### Pertanyaan 1:"
      ]
    },
    {
      "cell_type": "code",
      "execution_count": null,
      "metadata": {
        "id": "1swJUdAD8DC2"
      },
      "outputs": [],
      "source": []
    },
    {
      "cell_type": "markdown",
      "metadata": {
        "id": "DgHI7CiU8DC2"
      },
      "source": [
        "### Pertanyaan 2:"
      ]
    },
    {
      "cell_type": "code",
      "execution_count": null,
      "metadata": {
        "id": "Go0lCsvO8DC2"
      },
      "outputs": [],
      "source": []
    },
    {
      "cell_type": "markdown",
      "metadata": {
        "id": "_0-36BDLklRg"
      },
      "source": [
        "**Insight:**\n",
        "- xxx\n",
        "- xxx"
      ]
    },
    {
      "cell_type": "markdown",
      "metadata": {
        "id": "9y4VUsmcYNZ5"
      },
      "source": [
        "## Analisis Lanjutan (Opsional)"
      ]
    },
    {
      "cell_type": "code",
      "execution_count": null,
      "metadata": {
        "id": "iWhnzsJGYUCO"
      },
      "outputs": [],
      "source": []
    },
    {
      "cell_type": "markdown",
      "metadata": {
        "id": "_WeHlCeX8DC2"
      },
      "source": [
        "## Conclusion"
      ]
    },
    {
      "cell_type": "markdown",
      "metadata": {
        "id": "ZTcyR48Y8DC2"
      },
      "source": [
        "- Conclution pertanyaan 1\n",
        "- Conclution pertanyaan 2"
      ]
    }
  ],
  "metadata": {
    "colab": {
      "provenance": []
    },
    "kernelspec": {
      "display_name": "env",
      "language": "python",
      "name": "python3"
    },
    "language_info": {
      "codemirror_mode": {
        "name": "ipython",
        "version": 3
      },
      "file_extension": ".py",
      "mimetype": "text/x-python",
      "name": "python",
      "nbconvert_exporter": "python",
      "pygments_lexer": "ipython3",
      "version": "3.12.6"
    },
    "orig_nbformat": 4
  },
  "nbformat": 4,
  "nbformat_minor": 0
}
